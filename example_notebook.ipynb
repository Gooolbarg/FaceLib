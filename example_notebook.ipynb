{
 "cells": [
  {
   "cell_type": "code",
   "execution_count": 4,
   "metadata": {
    "ExecuteTime": {
     "end_time": "2021-01-15T05:51:43.936021Z",
     "start_time": "2021-01-15T05:51:43.932915Z"
    }
   },
   "outputs": [],
   "source": [
    "from facelib import WebcamVerify"
   ]
  },
  {
   "cell_type": "code",
   "execution_count": 5,
   "metadata": {
    "ExecuteTime": {
     "end_time": "2021-01-15T05:51:54.270802Z",
     "start_time": "2021-01-15T05:51:53.399871Z"
    }
   },
   "outputs": [
    {
     "name": "stdout",
     "output_type": "stream",
     "text": [
      "loading ...\n",
      "from FaceDetector: weights loaded\n",
      "from FaceRecognizer: MobileFaceNet Loaded\n",
      "from FaceRecognizer: facebank updated\n"
     ]
    }
   ],
   "source": [
    "v = WebcamVerify(device='cpu')"
   ]
  },
  {
   "cell_type": "code",
   "execution_count": 6,
   "metadata": {
    "ExecuteTime": {
     "end_time": "2021-01-15T05:52:00.789590Z",
     "start_time": "2021-01-15T05:51:55.410499Z"
    }
   },
   "outputs": [
    {
     "name": "stdout",
     "output_type": "stream",
     "text": [
      "type q for exit\n"
     ]
    }
   ],
   "source": [
    "v.run(camera_index=1)"
   ]
  },
  {
   "cell_type": "code",
   "execution_count": 12,
   "metadata": {
    "ExecuteTime": {
     "end_time": "2021-01-15T05:35:17.359183Z",
     "start_time": "2021-01-15T05:35:17.356228Z"
    }
   },
   "outputs": [],
   "source": [
    "from facelib import add_from_webcam"
   ]
  },
  {
   "cell_type": "code",
   "execution_count": 13,
   "metadata": {
    "ExecuteTime": {
     "end_time": "2021-01-15T05:35:49.477173Z",
     "start_time": "2021-01-15T05:35:38.063668Z"
    }
   },
   "outputs": [
    {
     "name": "stdout",
     "output_type": "stream",
     "text": [
      "loading ...\n",
      "for exit: use q keyword\n",
      "from FaceDetector: weights loaded\n",
      "type q for exit\n",
      "images saved in this path:  facelib/InsightFace/models/data/facebank/sajjad\n"
     ]
    }
   ],
   "source": [
    "add_from_webcam(person_name='sajjad', camera_index=1)"
   ]
  },
  {
   "cell_type": "code",
   "execution_count": 1,
   "metadata": {
    "ExecuteTime": {
     "end_time": "2021-01-15T05:50:19.366222Z",
     "start_time": "2021-01-15T05:50:17.741527Z"
    }
   },
   "outputs": [],
   "source": [
    "from facelib import add_from_folder"
   ]
  },
  {
   "cell_type": "code",
   "execution_count": 3,
   "metadata": {
    "ExecuteTime": {
     "end_time": "2021-01-15T05:50:45.657426Z",
     "start_time": "2021-01-15T05:50:45.322357Z"
    }
   },
   "outputs": [
    {
     "name": "stdout",
     "output_type": "stream",
     "text": [
      "only a face in each image and all image from the same person\n",
      "loading ...\n",
      "from FaceDetector: weights loaded\n",
      "sajjad/sajjad_1.jpg in this image did not detect any face\n",
      "images saved in this path:  facelib/InsightFace/models/data/facebank/sajjad\n"
     ]
    }
   ],
   "source": [
    "add_from_folder(person_name='sajjad', folder_path='./sajjad/')"
   ]
  },
  {
   "cell_type": "code",
   "execution_count": null,
   "metadata": {},
   "outputs": [],
   "source": []
  }
 ],
 "metadata": {
  "kernelspec": {
   "display_name": "Python 3",
   "language": "python",
   "name": "python3"
  },
  "language_info": {
   "codemirror_mode": {
    "name": "ipython",
    "version": 3
   },
   "file_extension": ".py",
   "mimetype": "text/x-python",
   "name": "python",
   "nbconvert_exporter": "python",
   "pygments_lexer": "ipython3",
   "version": "3.6.9"
  },
  "varInspector": {
   "cols": {
    "lenName": 16,
    "lenType": 16,
    "lenVar": 40
   },
   "kernels_config": {
    "python": {
     "delete_cmd_postfix": "",
     "delete_cmd_prefix": "del ",
     "library": "var_list.py",
     "varRefreshCmd": "print(var_dic_list())"
    },
    "r": {
     "delete_cmd_postfix": ") ",
     "delete_cmd_prefix": "rm(",
     "library": "var_list.r",
     "varRefreshCmd": "cat(var_dic_list()) "
    }
   },
   "types_to_exclude": [
    "module",
    "function",
    "builtin_function_or_method",
    "instance",
    "_Feature"
   ],
   "window_display": false
  }
 },
 "nbformat": 4,
 "nbformat_minor": 4
}
